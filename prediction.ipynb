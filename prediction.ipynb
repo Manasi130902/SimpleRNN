{
 "cells": [
  {
   "cell_type": "code",
   "execution_count": 7,
   "metadata": {},
   "outputs": [],
   "source": [
    "import  numpy as np\n",
    "import tensorflow as tf\n",
    "from tensorflow.keras.models import load_model\n",
    "from tensorflow.keras.datasets import imdb\n",
    "from tensorflow.keras.preprocessing import sequence\n",
    "from tensorflow.keras.models import Sequential\n",
    "from tensorflow.keras.layers import Embedding,SimpleRNN,Dense"
   ]
  },
  {
   "cell_type": "code",
   "execution_count": 8,
   "metadata": {},
   "outputs": [],
   "source": [
    "#load the imdb dataset word index\n",
    "word_index=imdb.get_word_index()\n",
    "reverse_word_index={value:key for key,value in word_index.items()}"
   ]
  },
  {
   "cell_type": "code",
   "execution_count": 15,
   "metadata": {},
   "outputs": [
    {
     "name": "stdout",
     "output_type": "stream",
     "text": [
      "2.18.0\n",
      "3.8.0\n"
     ]
    }
   ],
   "source": [
    "import tensorflow as tf\n",
    "print(tf.__version__)\n",
    "print(tf.keras.__version__)\n"
   ]
  },
  {
   "cell_type": "code",
   "execution_count": 9,
   "metadata": {},
   "outputs": [
    {
     "name": "stderr",
     "output_type": "stream",
     "text": [
      "WARNING:absl:Compiled the loaded model, but the compiled metrics have yet to be built. `model.compile_metrics` will be empty until you train or evaluate the model.\n"
     ]
    },
    {
     "data": {
      "text/html": [
       "<pre style=\"white-space:pre;overflow-x:auto;line-height:normal;font-family:Menlo,'DejaVu Sans Mono',consolas,'Courier New',monospace\"><span style=\"font-weight: bold\">Model: \"sequential_4\"</span>\n",
       "</pre>\n"
      ],
      "text/plain": [
       "\u001b[1mModel: \"sequential_4\"\u001b[0m\n"
      ]
     },
     "metadata": {},
     "output_type": "display_data"
    },
    {
     "data": {
      "text/html": [
       "<pre style=\"white-space:pre;overflow-x:auto;line-height:normal;font-family:Menlo,'DejaVu Sans Mono',consolas,'Courier New',monospace\">┏━━━━━━━━━━━━━━━━━━━━━━━━━━━━━━━━━┳━━━━━━━━━━━━━━━━━━━━━━━━┳━━━━━━━━━━━━━━━┓\n",
       "┃<span style=\"font-weight: bold\"> Layer (type)                    </span>┃<span style=\"font-weight: bold\"> Output Shape           </span>┃<span style=\"font-weight: bold\">       Param # </span>┃\n",
       "┡━━━━━━━━━━━━━━━━━━━━━━━━━━━━━━━━━╇━━━━━━━━━━━━━━━━━━━━━━━━╇━━━━━━━━━━━━━━━┩\n",
       "│ embedding (<span style=\"color: #0087ff; text-decoration-color: #0087ff\">Embedding</span>)           │ (<span style=\"color: #00af00; text-decoration-color: #00af00\">32</span>, <span style=\"color: #00af00; text-decoration-color: #00af00\">500</span>, <span style=\"color: #00af00; text-decoration-color: #00af00\">128</span>)         │     <span style=\"color: #00af00; text-decoration-color: #00af00\">1,280,000</span> │\n",
       "├─────────────────────────────────┼────────────────────────┼───────────────┤\n",
       "│ simple_rnn (<span style=\"color: #0087ff; text-decoration-color: #0087ff\">SimpleRNN</span>)          │ (<span style=\"color: #00af00; text-decoration-color: #00af00\">32</span>, <span style=\"color: #00af00; text-decoration-color: #00af00\">128</span>)              │        <span style=\"color: #00af00; text-decoration-color: #00af00\">32,896</span> │\n",
       "├─────────────────────────────────┼────────────────────────┼───────────────┤\n",
       "│ dense (<span style=\"color: #0087ff; text-decoration-color: #0087ff\">Dense</span>)                   │ (<span style=\"color: #00af00; text-decoration-color: #00af00\">32</span>, <span style=\"color: #00af00; text-decoration-color: #00af00\">1</span>)                │           <span style=\"color: #00af00; text-decoration-color: #00af00\">129</span> │\n",
       "└─────────────────────────────────┴────────────────────────┴───────────────┘\n",
       "</pre>\n"
      ],
      "text/plain": [
       "┏━━━━━━━━━━━━━━━━━━━━━━━━━━━━━━━━━┳━━━━━━━━━━━━━━━━━━━━━━━━┳━━━━━━━━━━━━━━━┓\n",
       "┃\u001b[1m \u001b[0m\u001b[1mLayer (type)                   \u001b[0m\u001b[1m \u001b[0m┃\u001b[1m \u001b[0m\u001b[1mOutput Shape          \u001b[0m\u001b[1m \u001b[0m┃\u001b[1m \u001b[0m\u001b[1m      Param #\u001b[0m\u001b[1m \u001b[0m┃\n",
       "┡━━━━━━━━━━━━━━━━━━━━━━━━━━━━━━━━━╇━━━━━━━━━━━━━━━━━━━━━━━━╇━━━━━━━━━━━━━━━┩\n",
       "│ embedding (\u001b[38;5;33mEmbedding\u001b[0m)           │ (\u001b[38;5;34m32\u001b[0m, \u001b[38;5;34m500\u001b[0m, \u001b[38;5;34m128\u001b[0m)         │     \u001b[38;5;34m1,280,000\u001b[0m │\n",
       "├─────────────────────────────────┼────────────────────────┼───────────────┤\n",
       "│ simple_rnn (\u001b[38;5;33mSimpleRNN\u001b[0m)          │ (\u001b[38;5;34m32\u001b[0m, \u001b[38;5;34m128\u001b[0m)              │        \u001b[38;5;34m32,896\u001b[0m │\n",
       "├─────────────────────────────────┼────────────────────────┼───────────────┤\n",
       "│ dense (\u001b[38;5;33mDense\u001b[0m)                   │ (\u001b[38;5;34m32\u001b[0m, \u001b[38;5;34m1\u001b[0m)                │           \u001b[38;5;34m129\u001b[0m │\n",
       "└─────────────────────────────────┴────────────────────────┴───────────────┘\n"
      ]
     },
     "metadata": {},
     "output_type": "display_data"
    },
    {
     "data": {
      "text/html": [
       "<pre style=\"white-space:pre;overflow-x:auto;line-height:normal;font-family:Menlo,'DejaVu Sans Mono',consolas,'Courier New',monospace\"><span style=\"font-weight: bold\"> Total params: </span><span style=\"color: #00af00; text-decoration-color: #00af00\">1,313,027</span> (5.01 MB)\n",
       "</pre>\n"
      ],
      "text/plain": [
       "\u001b[1m Total params: \u001b[0m\u001b[38;5;34m1,313,027\u001b[0m (5.01 MB)\n"
      ]
     },
     "metadata": {},
     "output_type": "display_data"
    },
    {
     "data": {
      "text/html": [
       "<pre style=\"white-space:pre;overflow-x:auto;line-height:normal;font-family:Menlo,'DejaVu Sans Mono',consolas,'Courier New',monospace\"><span style=\"font-weight: bold\"> Trainable params: </span><span style=\"color: #00af00; text-decoration-color: #00af00\">1,313,025</span> (5.01 MB)\n",
       "</pre>\n"
      ],
      "text/plain": [
       "\u001b[1m Trainable params: \u001b[0m\u001b[38;5;34m1,313,025\u001b[0m (5.01 MB)\n"
      ]
     },
     "metadata": {},
     "output_type": "display_data"
    },
    {
     "data": {
      "text/html": [
       "<pre style=\"white-space:pre;overflow-x:auto;line-height:normal;font-family:Menlo,'DejaVu Sans Mono',consolas,'Courier New',monospace\"><span style=\"font-weight: bold\"> Non-trainable params: </span><span style=\"color: #00af00; text-decoration-color: #00af00\">0</span> (0.00 B)\n",
       "</pre>\n"
      ],
      "text/plain": [
       "\u001b[1m Non-trainable params: \u001b[0m\u001b[38;5;34m0\u001b[0m (0.00 B)\n"
      ]
     },
     "metadata": {},
     "output_type": "display_data"
    },
    {
     "data": {
      "text/html": [
       "<pre style=\"white-space:pre;overflow-x:auto;line-height:normal;font-family:Menlo,'DejaVu Sans Mono',consolas,'Courier New',monospace\"><span style=\"font-weight: bold\"> Optimizer params: </span><span style=\"color: #00af00; text-decoration-color: #00af00\">2</span> (12.00 B)\n",
       "</pre>\n"
      ],
      "text/plain": [
       "\u001b[1m Optimizer params: \u001b[0m\u001b[38;5;34m2\u001b[0m (12.00 B)\n"
      ]
     },
     "metadata": {},
     "output_type": "display_data"
    }
   ],
   "source": [
    "#load the pre-trained model with relu activation\n",
    "model = load_model('simple_rnn_imdb.h5')\n",
    "model.summary()"
   ]
  },
  {
   "cell_type": "code",
   "execution_count": 10,
   "metadata": {},
   "outputs": [
    {
     "data": {
      "text/plain": [
       "[array([[-0.02680342,  0.18235885,  0.6831844 , ..., -0.07905905,\n",
       "          0.035328  , -0.44585982],\n",
       "        [-0.00644808,  0.05807122,  0.1532478 , ..., -0.02332247,\n",
       "          0.05628593,  0.018192  ],\n",
       "        [ 0.02878776, -0.07658414, -0.09106288, ...,  0.01859179,\n",
       "         -0.04107472,  0.04356644],\n",
       "        ...,\n",
       "        [-0.03083559, -0.07137295,  0.09712058, ...,  0.06499376,\n",
       "         -0.0078065 ,  0.04387169],\n",
       "        [ 0.13689028,  0.04444069, -0.12593974, ...,  0.02704007,\n",
       "         -0.09031687, -0.03693594],\n",
       "        [-0.17760873, -0.13974829,  0.00888858, ...,  0.10085583,\n",
       "          0.12770778, -0.08300043]], dtype=float32),\n",
       " array([[-0.10302398,  0.09828297, -0.11492226, ...,  0.1533176 ,\n",
       "          0.07134362,  0.24899557],\n",
       "        [-0.05172911,  0.03410494,  0.19108911, ...,  0.07264931,\n",
       "          0.00049201, -0.00628117],\n",
       "        [-0.1022886 , -0.20898876,  0.00990434, ..., -0.08099327,\n",
       "         -0.06299148,  0.06639629],\n",
       "        ...,\n",
       "        [-0.14764328, -0.06947993,  0.12482361, ..., -0.13237758,\n",
       "          0.04613617, -0.15922034],\n",
       "        [-0.03060971,  0.0526341 ,  0.0397736 , ..., -0.05624719,\n",
       "         -0.0525846 ,  0.08670148],\n",
       "        [-0.28278625, -0.14968683,  0.00658035, ...,  0.15131277,\n",
       "          0.08403438,  0.21406026]], dtype=float32),\n",
       " array([[ 9.2444956e-02, -2.4233748e-01, -2.4371356e-02, ...,\n",
       "         -5.0739206e-02,  3.7022315e-02, -3.1415316e-01],\n",
       "        [-3.7869982e-02, -1.1390250e-01,  6.0456749e-02, ...,\n",
       "         -5.4803438e-02, -5.1135730e-02,  7.9977959e-02],\n",
       "        [-1.9825898e-02, -7.1960390e-02,  8.5652284e-02, ...,\n",
       "          3.8385700e-02,  6.7223899e-02,  8.4562562e-02],\n",
       "        ...,\n",
       "        [ 3.1758538e-01, -1.7634119e-01,  3.8400016e-04, ...,\n",
       "          1.3646969e-01, -7.8993849e-02,  4.7115648e-01],\n",
       "        [-8.5555069e-02, -5.0501000e-02,  3.8744468e-02, ...,\n",
       "         -3.5153035e-02, -1.8616970e-01, -1.2613593e-01],\n",
       "        [-9.1737762e-02, -8.4982149e-02, -4.8847560e-02, ...,\n",
       "          4.8264709e-01, -3.7454441e-02, -7.4586965e-02]], dtype=float32),\n",
       " array([ 0.01835064, -0.06564905, -0.02056358, -0.02001321,  0.04604062,\n",
       "         0.04044861, -0.04468052,  0.02974944,  0.02272484, -0.05181477,\n",
       "         0.04690702, -0.03016515,  0.00514567,  0.02834599, -0.03414575,\n",
       "        -0.04307265,  0.01359801,  0.04320052,  0.05784095,  0.04728635,\n",
       "         0.0747718 ,  0.0373941 , -0.08458053, -0.07084793,  0.03908323,\n",
       "         0.06698745,  0.04113568, -0.04952466,  0.04942412,  0.03899388,\n",
       "         0.02224971, -0.04169486,  0.03549202,  0.05220117,  0.05194811,\n",
       "         0.03117685,  0.0320959 , -0.01919555,  0.05408298,  0.05913179,\n",
       "        -0.04678264, -0.04635475, -0.04399591,  0.04029365, -0.06445469,\n",
       "        -0.03462162,  0.04138059,  0.07690351,  0.01678058,  0.03275442,\n",
       "        -0.03977184, -0.09839124,  0.01893131, -0.0276651 ,  0.02741646,\n",
       "         0.04591043, -0.02556884,  0.06843102, -0.04317861,  0.04408056,\n",
       "         0.04354639, -0.04839003, -0.02511612,  0.00694096, -0.01576137,\n",
       "        -0.05897304, -0.07321303, -0.03937307, -0.04524321,  0.03424223,\n",
       "         0.02136352,  0.02021465, -0.01745083,  0.02549999,  0.02463257,\n",
       "        -0.06017653,  0.05513056, -0.04134705,  0.03041221, -0.03710264,\n",
       "         0.03447577, -0.05843568, -0.06212849,  0.04352748,  0.04446928,\n",
       "         0.00501968,  0.00950131,  0.01918592, -0.05159962, -0.04372016,\n",
       "         0.04341178, -0.0129563 , -0.00021017,  0.01795583, -0.00880977,\n",
       "         0.05194091, -0.03452975, -0.02371791,  0.03022956,  0.01798541,\n",
       "         0.02679203,  0.04527507, -0.02202272, -0.06208023, -0.03097199,\n",
       "         0.04830883,  0.03212849, -0.03944803,  0.03473296, -0.05542071,\n",
       "        -0.0398253 ,  0.02120289, -0.06675766, -0.02273095,  0.04791912,\n",
       "        -0.09514681, -0.04334317,  0.04243126,  0.01960044,  0.04271282,\n",
       "         0.00012724,  0.05004878, -0.02983877, -0.03843409,  0.03762111,\n",
       "        -0.01235455, -0.05734581, -0.01139368], dtype=float32),\n",
       " array([[-0.3951358 ],\n",
       "        [ 0.33076042],\n",
       "        [-0.03066249],\n",
       "        [ 0.33758906],\n",
       "        [-0.17447273],\n",
       "        [ 0.48480052],\n",
       "        [-0.05437125],\n",
       "        [ 0.08658533],\n",
       "        [ 0.45596996],\n",
       "        [ 0.20458406],\n",
       "        [-0.5948222 ],\n",
       "        [ 0.16852665],\n",
       "        [-0.36878607],\n",
       "        [-0.1654932 ],\n",
       "        [-0.24007799],\n",
       "        [-0.14080448],\n",
       "        [ 0.22838323],\n",
       "        [ 0.28679213],\n",
       "        [ 0.00721848],\n",
       "        [-0.30723715],\n",
       "        [ 0.16972327],\n",
       "        [ 0.12324093],\n",
       "        [-0.12897807],\n",
       "        [-0.54705375],\n",
       "        [ 0.16117415],\n",
       "        [ 0.30035874],\n",
       "        [-0.14734164],\n",
       "        [-0.03763474],\n",
       "        [-0.1313317 ],\n",
       "        [-0.21768062],\n",
       "        [-0.06307541],\n",
       "        [-0.1375871 ],\n",
       "        [ 0.24714483],\n",
       "        [ 0.75004125],\n",
       "        [-0.04948815],\n",
       "        [ 0.47570914],\n",
       "        [-0.0923054 ],\n",
       "        [ 0.46715486],\n",
       "        [ 0.08912763],\n",
       "        [-0.54088074],\n",
       "        [-0.21369188],\n",
       "        [-0.15001397],\n",
       "        [-0.19159248],\n",
       "        [ 0.0135405 ],\n",
       "        [ 0.20513625],\n",
       "        [-0.5033768 ],\n",
       "        [ 0.25142542],\n",
       "        [-0.31750286],\n",
       "        [-0.6427769 ],\n",
       "        [-0.10467348],\n",
       "        [-0.11879113],\n",
       "        [ 0.00755976],\n",
       "        [-0.1446343 ],\n",
       "        [ 0.19779655],\n",
       "        [-0.23604247],\n",
       "        [ 0.27774262],\n",
       "        [-0.05379702],\n",
       "        [-0.15436165],\n",
       "        [-0.16523626],\n",
       "        [ 0.02354616],\n",
       "        [ 0.21643107],\n",
       "        [-0.10361484],\n",
       "        [-0.57900673],\n",
       "        [-0.21634325],\n",
       "        [ 0.00678454],\n",
       "        [-0.18834165],\n",
       "        [-0.27357224],\n",
       "        [ 0.55739987],\n",
       "        [-0.22068276],\n",
       "        [-0.17506592],\n",
       "        [-0.29398617],\n",
       "        [-0.6668602 ],\n",
       "        [ 0.05489955],\n",
       "        [-0.2807829 ],\n",
       "        [-0.7175432 ],\n",
       "        [ 0.06424242],\n",
       "        [ 0.20024654],\n",
       "        [-0.16292389],\n",
       "        [ 0.40408075],\n",
       "        [ 0.17654477],\n",
       "        [ 0.15168197],\n",
       "        [ 0.14076449],\n",
       "        [ 0.11338606],\n",
       "        [ 0.15310779],\n",
       "        [-0.64437634],\n",
       "        [ 0.21523272],\n",
       "        [ 0.12320507],\n",
       "        [ 0.0726318 ],\n",
       "        [ 0.11273677],\n",
       "        [-0.22353879],\n",
       "        [ 0.3481061 ],\n",
       "        [ 0.09784506],\n",
       "        [-0.12312595],\n",
       "        [ 0.7768065 ],\n",
       "        [ 0.39219335],\n",
       "        [ 0.18771599],\n",
       "        [-0.33795875],\n",
       "        [-0.21807213],\n",
       "        [-0.25112006],\n",
       "        [ 0.12874791],\n",
       "        [ 0.2821835 ],\n",
       "        [ 0.29992726],\n",
       "        [-0.49102664],\n",
       "        [ 0.0353568 ],\n",
       "        [ 0.34845278],\n",
       "        [ 0.21552701],\n",
       "        [ 0.41047812],\n",
       "        [-0.31224775],\n",
       "        [-0.0421906 ],\n",
       "        [ 0.09432554],\n",
       "        [-0.30209732],\n",
       "        [ 0.06905172],\n",
       "        [-0.0719283 ],\n",
       "        [-0.08122178],\n",
       "        [-0.3580944 ],\n",
       "        [-0.00516348],\n",
       "        [-0.28219727],\n",
       "        [-0.7361687 ],\n",
       "        [ 0.18220544],\n",
       "        [-0.88160414],\n",
       "        [ 0.14928316],\n",
       "        [ 0.41896528],\n",
       "        [-0.20586197],\n",
       "        [-0.1598279 ],\n",
       "        [ 0.14126438],\n",
       "        [ 0.07835419],\n",
       "        [ 0.01066938],\n",
       "        [ 0.19769123]], dtype=float32),\n",
       " array([-0.01027409], dtype=float32)]"
      ]
     },
     "execution_count": 10,
     "metadata": {},
     "output_type": "execute_result"
    }
   ],
   "source": [
    "model.get_weights()"
   ]
  },
  {
   "cell_type": "code",
   "execution_count": 12,
   "metadata": {},
   "outputs": [],
   "source": [
    "#helper functions -1\n",
    "#function to decode reviews\n",
    "def decode_review(encoded_review):\n",
    "    return ' '.join([reverse_word_index.get(i-3,'?')for i in encoded_review])\n",
    "\n",
    "#function to preprocess user input\n",
    "def preprocess_text(text):\n",
    "    words=text.lower().split()\n",
    "    encoded_review=[word_index.get(word,2)+3 for word in words]\n",
    "    padded_review= sequence.pad_sequences([encoded_review],maxlen=500)\n",
    "    return padded_review"
   ]
  },
  {
   "cell_type": "code",
   "execution_count": 13,
   "metadata": {},
   "outputs": [],
   "source": [
    "##prediction function\n",
    "def predict_sentiment(review):\n",
    "    preprocessed_input=preprocess_text(review)\n",
    "\n",
    "    prediction=model.predict(preprocessed_input)\n",
    "\n",
    "    sentiment='Positive' if prediction[0][0]>0.5 else 'Negative'\n",
    "\n",
    "    return sentiment,prediction[0][0]"
   ]
  },
  {
   "cell_type": "code",
   "execution_count": 14,
   "metadata": {},
   "outputs": [
    {
     "name": "stdout",
     "output_type": "stream",
     "text": [
      "\u001b[1m1/1\u001b[0m \u001b[32m━━━━━━━━━━━━━━━━━━━━\u001b[0m\u001b[37m\u001b[0m \u001b[1m1s\u001b[0m 1s/step\n",
      "Review: This movie was fantastic!The acting was great and the plot was thrilling.\n",
      "Sentiment: Positive\n",
      "Prediction_Score: 0.5810078382492065\n"
     ]
    }
   ],
   "source": [
    "#user input and prediction\n",
    "\n",
    "example_review=\"This movie was fantastic!The acting was great and the plot was thrilling.\"\n",
    "sentiment,score=predict_sentiment(example_review)\n",
    "\n",
    "print(f'Review: {example_review}')\n",
    "print(f'Sentiment: {sentiment}')\n",
    "print(f\"Prediction_Score: {score}\")"
   ]
  }
 ],
 "metadata": {
  "kernelspec": {
   "display_name": "base",
   "language": "python",
   "name": "python3"
  },
  "language_info": {
   "codemirror_mode": {
    "name": "ipython",
    "version": 3
   },
   "file_extension": ".py",
   "mimetype": "text/x-python",
   "name": "python",
   "nbconvert_exporter": "python",
   "pygments_lexer": "ipython3",
   "version": "3.12.7"
  }
 },
 "nbformat": 4,
 "nbformat_minor": 2
}
